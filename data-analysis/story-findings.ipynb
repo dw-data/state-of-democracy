{
 "cells": [
  {
   "cell_type": "markdown",
   "id": "84beac85",
   "metadata": {},
   "source": [
    "This notebook contains a line-by-line display of the figures outlined in the story."
   ]
  },
  {
   "cell_type": "code",
   "execution_count": 1,
   "id": "d215c75d",
   "metadata": {},
   "outputs": [],
   "source": [
    "import pandas as pd"
   ]
  },
  {
   "cell_type": "code",
   "execution_count": 2,
   "id": "ae5a0bbd",
   "metadata": {},
   "outputs": [],
   "source": [
    "ert = pd.read_csv(\"../../projects/state-of-democracy/data/ert-dataset.csv\")\n",
    "vdem = pd.read_csv(\"../../projects/state-of-democracy/data/Country_Year_V-Dem_Core_CSV_v12/V-Dem-CY-Core-v12.csv\")"
   ]
  },
  {
   "cell_type": "code",
   "execution_count": 3,
   "id": "304d0deb",
   "metadata": {},
   "outputs": [],
   "source": [
    "# ert = pd.read_csv(\"../data/ert-dataset.csv\")\n",
    "# vdem = pd.read_csv(\"../data/Country_Year_V-Dem_Core_CSV_v12/V-Dem-CY-Core-v12.csv\")"
   ]
  },
  {
   "cell_type": "markdown",
   "id": "b7facbf9",
   "metadata": {},
   "source": [
    "_Brazil is one of 12 countries where domestic democratic systems are tilting toward autocracy, according to data published by Varieties of Democracy (V-Dem), an independent research institute based at the University of Gothenburg._"
   ]
  },
  {
   "cell_type": "code",
   "execution_count": 4,
   "id": "62bdbade",
   "metadata": {},
   "outputs": [],
   "source": [
    "# Removes democratization processes\n",
    "ert = ert[~ert.aut_ep_id.isna()].reset_index()"
   ]
  },
  {
   "cell_type": "code",
   "execution_count": 5,
   "id": "4b43273c",
   "metadata": {},
   "outputs": [],
   "source": [
    " # Keep only those in which the process started in a democracy\n",
    "ert = ert[ert.aut_ep_prch==1]"
   ]
  },
  {
   "cell_type": "code",
   "execution_count": 6,
   "id": "8b5f9b47",
   "metadata": {},
   "outputs": [],
   "source": [
    "# Keeps only one entry for each episode, since they currently have one entry per year\n",
    "ert = ert.drop_duplicates(subset='aut_ep_id', keep='last').reset_index()"
   ]
  },
  {
   "cell_type": "code",
   "execution_count": 7,
   "id": "5cb13286",
   "metadata": {},
   "outputs": [
    {
     "data": {
      "text/plain": [
       "1    62\n",
       "6    12\n",
       "4     5\n",
       "2     2\n",
       "Name: aut_ep_outcome, dtype: int64"
      ]
     },
     "execution_count": 7,
     "metadata": {},
     "output_type": "execute_result"
    }
   ],
   "source": [
    "# How many are still ongoing?\n",
    "# We use the standard parameters of the dataset\n",
    "# Code 6 == 'Uncertain'\n",
    "ert.aut_ep_outcome.value_counts()"
   ]
  },
  {
   "cell_type": "markdown",
   "id": "40055cda",
   "metadata": {},
   "source": [
    "_\"The other 11 countries span the globe: Poland, Niger, Indonesia, Botswana, Guatemala, Tunisia, Croatia, the Czech Republic, Guyana, Mauritius and Slovenia.\"_"
   ]
  },
  {
   "cell_type": "code",
   "execution_count": 8,
   "id": "ab648d60",
   "metadata": {},
   "outputs": [
    {
     "data": {
      "text/plain": [
       "array(['POL', 'BRA', 'IDN', 'NER', 'BWA', 'GTM', 'TUN', 'HRV', 'CZE',\n",
       "       'GUY', 'MUS', 'SVN'], dtype=object)"
      ]
     },
     "execution_count": 8,
     "metadata": {},
     "output_type": "execute_result"
    }
   ],
   "source": [
    "# List of country ids for uncertain autocratization episodes\n",
    "ert[ert.aut_ep_outcome==6].country_text_id.unique()"
   ]
  },
  {
   "cell_type": "code",
   "execution_count": 9,
   "id": "f8270b1d",
   "metadata": {},
   "outputs": [
    {
     "data": {
      "text/plain": [
       "(12,)"
      ]
     },
     "execution_count": 9,
     "metadata": {},
     "output_type": "execute_result"
    }
   ],
   "source": [
    "# Count of countries\n",
    "ert[ert.aut_ep_outcome==6].country_text_id.unique().shape"
   ]
  },
  {
   "cell_type": "markdown",
   "id": "0d8bd2d2",
   "metadata": {},
   "source": [
    "_In addition to these 12 countries where crises of democracy are still unfolding, V-Dem has identified another 17 that have lost the fight in the past decade alone — including Turkey, the Philippines and Hungary._"
   ]
  },
  {
   "cell_type": "code",
   "execution_count": 10,
   "id": "716184fc",
   "metadata": {},
   "outputs": [
    {
     "data": {
      "text/plain": [
       "1    18\n",
       "6    12\n",
       "4     4\n",
       "Name: aut_ep_outcome, dtype: int64"
      ]
     },
     "execution_count": 10,
     "metadata": {},
     "output_type": "execute_result"
    }
   ],
   "source": [
    "# Code 1 == democratic breakdown\n",
    "# This means 18 unique episodes\n",
    "ert[(ert.year > 2010)].aut_ep_outcome.value_counts()"
   ]
  },
  {
   "cell_type": "code",
   "execution_count": 11,
   "id": "73cf67e9",
   "metadata": {},
   "outputs": [
    {
     "data": {
      "text/plain": [
       "(17,)"
      ]
     },
     "execution_count": 11,
     "metadata": {},
     "output_type": "execute_result"
    }
   ],
   "source": [
    "# But this happened on 17 countries!\n",
    "ert[(ert.year > 2010) & (ert.aut_ep_outcome==1)].country_text_id.unique().shape"
   ]
  },
  {
   "cell_type": "code",
   "execution_count": 12,
   "id": "a295452e",
   "metadata": {},
   "outputs": [
    {
     "data": {
      "text/plain": [
       "4     SLV\n",
       "6     BOL\n",
       "8     MLI\n",
       "9     MLI\n",
       "14    IND\n",
       "17    PHL\n",
       "20    BEN\n",
       "21    BFA\n",
       "23    NIC\n",
       "27    ZMB\n",
       "28    CIV\n",
       "39    MDV\n",
       "41    PNG\n",
       "45    TUR\n",
       "47    UKR\n",
       "73    MKD\n",
       "77    SRB\n",
       "80    HUN\n",
       "Name: country_text_id, dtype: object"
      ]
     },
     "execution_count": 12,
     "metadata": {},
     "output_type": "execute_result"
    }
   ],
   "source": [
    "# Mali had two autocratization episodes, in a sucession of coups\n",
    "ert[(ert.year > 2010) & (ert.aut_ep_outcome==1)].country_text_id"
   ]
  },
  {
   "cell_type": "markdown",
   "id": "301a871f",
   "metadata": {},
   "source": [
    "_In countries such as Russia and Venezuela, authoritarian rule has been entrenched and civil liberties further curtailed._"
   ]
  },
  {
   "cell_type": "code",
   "execution_count": 13,
   "id": "2d066524",
   "metadata": {},
   "outputs": [],
   "source": [
    "# Reads a clean file again\n",
    "ert_aut = pd.read_csv(\"../../projects/state-of-democracy/data/ert-dataset.csv\")"
   ]
  },
  {
   "cell_type": "code",
   "execution_count": 14,
   "id": "23fc4df7",
   "metadata": {},
   "outputs": [],
   "source": [
    "# Keep only those in which the process DID NOT start in a democracy\n",
    "ert_aut = ert_aut[ert_aut.aut_ep_prch==0]"
   ]
  },
  {
   "cell_type": "code",
   "execution_count": 15,
   "id": "9eb6f782",
   "metadata": {},
   "outputs": [],
   "source": [
    "# Keeps only one entry for each episode, since they currently have one entry per year\n",
    "ert_aut = ert_aut.drop_duplicates(subset='aut_ep_id', keep='last').reset_index()"
   ]
  },
  {
   "cell_type": "code",
   "execution_count": 16,
   "id": "e94c44d8",
   "metadata": {},
   "outputs": [
    {
     "data": {
      "text/plain": [
       "5    147\n",
       "Name: aut_ep_outcome, dtype: int64"
      ]
     },
     "execution_count": 16,
     "metadata": {},
     "output_type": "execute_result"
    }
   ],
   "source": [
    "# How many ended in autocratic regression? (code 5\n",
    "ert_aut.aut_ep_outcome.value_counts()"
   ]
  },
  {
   "cell_type": "code",
   "execution_count": 17,
   "id": "fb232967",
   "metadata": {},
   "outputs": [
    {
     "data": {
      "text/plain": [
       "array(['Burma/Myanmar', 'Russia', 'Egypt', 'Yemen', 'Bangladesh',\n",
       "       'Pakistan', 'Afghanistan', 'Tanzania', 'Thailand', 'Venezuela',\n",
       "       'Cambodia', 'Nepal', 'Burundi', 'Guinea-Bissau', 'Libya', 'Togo',\n",
       "       'Bahrain', 'Comoros'], dtype=object)"
      ]
     },
     "execution_count": 17,
     "metadata": {},
     "output_type": "execute_result"
    }
   ],
   "source": [
    "# Where has this happened in the last decade?\n",
    "ert_aut[(ert_aut.year >= 2011) & (ert_aut.aut_ep_outcome==5)].country_name.unique()"
   ]
  },
  {
   "cell_type": "markdown",
   "id": "cc264a8f",
   "metadata": {},
   "source": [
    "_Though far more countries can now be called democratic than could have 100 years ago, the process of democratization stalled globally in the early 2000s._ "
   ]
  },
  {
   "cell_type": "code",
   "execution_count": 18,
   "id": "a4d0413c",
   "metadata": {},
   "outputs": [
    {
     "data": {
      "text/plain": [
       "0.0    0.695946\n",
       "1.0    0.162162\n",
       "2.0    0.081081\n",
       "3.0    0.060811\n",
       "Name: v2x_regime, dtype: float64"
      ]
     },
     "execution_count": 18,
     "metadata": {},
     "output_type": "execute_result"
    }
   ],
   "source": [
    "# Share of democracies in 1921\n",
    "# 0 -> closed autocracy\n",
    "# 1 -> electoral autocracy\n",
    "# 2 -> electoral democracy\n",
    "# 3 -> liberal democracy\n",
    "vdem[(vdem.year==1921)].v2x_regime.value_counts(normalize=True)"
   ]
  },
  {
   "cell_type": "code",
   "execution_count": 19,
   "id": "4797550f",
   "metadata": {},
   "outputs": [
    {
     "data": {
      "text/plain": [
       "1.0    0.299435\n",
       "2.0    0.282486\n",
       "3.0    0.214689\n",
       "0.0    0.203390\n",
       "Name: v2x_regime, dtype: float64"
      ]
     },
     "execution_count": 19,
     "metadata": {},
     "output_type": "execute_result"
    }
   ],
   "source": [
    "# Share of democracies in 2001\n",
    "# 0 -> closed autocracy\n",
    "# 1 -> electoral autocracy\n",
    "# 2 -> electoral democracy\n",
    "# 3 -> liberal democracy\n",
    "vdem[(vdem.year==2001)].v2x_regime.value_counts(normalize=True)"
   ]
  },
  {
   "cell_type": "code",
   "execution_count": 20,
   "id": "10f164c7",
   "metadata": {},
   "outputs": [
    {
     "data": {
      "text/plain": [
       "1.0    0.335196\n",
       "2.0    0.307263\n",
       "3.0    0.189944\n",
       "0.0    0.167598\n",
       "Name: v2x_regime, dtype: float64"
      ]
     },
     "execution_count": 20,
     "metadata": {},
     "output_type": "execute_result"
    }
   ],
   "source": [
    "# Share of democracies in 2021\n",
    "# 0 -> closed autocracy\n",
    "# 1 -> electoral autocracy\n",
    "# 2 -> electoral democracy\n",
    "# 3 -> liberal democracy\n",
    "vdem[(vdem.year==2021)].v2x_regime.value_counts(normalize=True)"
   ]
  },
  {
   "cell_type": "markdown",
   "id": "7533e6e9",
   "metadata": {},
   "source": [
    "_The 179 countries classified by V-Dem are almost evenly split between electoral or closed autocracies and liberal or electoral democracies._"
   ]
  },
  {
   "cell_type": "code",
   "execution_count": 21,
   "id": "d3145104",
   "metadata": {},
   "outputs": [
    {
     "data": {
      "text/plain": [
       "1.0    0.299435\n",
       "2.0    0.282486\n",
       "3.0    0.214689\n",
       "0.0    0.203390\n",
       "Name: v2x_regime, dtype: float64"
      ]
     },
     "execution_count": 21,
     "metadata": {},
     "output_type": "execute_result"
    }
   ],
   "source": [
    "# 0 + 1 = ~50%\n",
    "# 2 + 3 = ~50%\n",
    "vdem[(vdem.year==2001)].v2x_regime.value_counts(normalize=True)"
   ]
  },
  {
   "cell_type": "markdown",
   "id": "008217e3",
   "metadata": {},
   "source": [
    "_V-Dem has chronicled 81 periods of democratic decay in countries since 1900 — 50 of which happened have happened since 2000. In roughly 75% of cases, the crisis resulted in a complete transition to autocracy._ "
   ]
  },
  {
   "cell_type": "code",
   "execution_count": 22,
   "id": "12eee031",
   "metadata": {},
   "outputs": [
    {
     "data": {
      "text/plain": [
       "1    62\n",
       "6    12\n",
       "4     5\n",
       "2     2\n",
       "Name: aut_ep_outcome, dtype: int64"
      ]
     },
     "execution_count": 22,
     "metadata": {},
     "output_type": "execute_result"
    }
   ],
   "source": [
    "# Data was filtered above\n",
    "\n",
    "# 0 - No autocratization\n",
    "# 1 - Democratic breakdown\n",
    "# 2 - Preempted democratic breakdown (turned autocratic for a brief while, without a 'founding election')\n",
    "# 3 - Diminished democracy\n",
    "# 4 - Averted regression\n",
    "# 5 - Regressed autocracy\n",
    "# 6 - Uncertain\n",
    "ert.aut_ep_outcome.value_counts()"
   ]
  },
  {
   "cell_type": "code",
   "execution_count": 23,
   "id": "db64f1f7",
   "metadata": {},
   "outputs": [
    {
     "data": {
      "text/plain": [
       "Niger          3\n",
       "India          2\n",
       "Ukraine        2\n",
       "Sri Lanka      2\n",
       "Mali           2\n",
       "              ..\n",
       "Austria        1\n",
       "Ivory Coast    1\n",
       "Belarus        1\n",
       "South Korea    1\n",
       "Suriname       1\n",
       "Name: country_name, Length: 63, dtype: int64"
      ]
     },
     "execution_count": 23,
     "metadata": {},
     "output_type": "execute_result"
    }
   ],
   "source": [
    "# Individual countries\n",
    "ert.country_name.value_counts()"
   ]
  },
  {
   "cell_type": "code",
   "execution_count": 24,
   "id": "720aae89",
   "metadata": {},
   "outputs": [
    {
     "data": {
      "text/plain": [
       "(50,)"
      ]
     },
     "execution_count": 24,
     "metadata": {},
     "output_type": "execute_result"
    }
   ],
   "source": [
    "# Episodes in this century\n",
    "ert[ert.year >= 2001].aut_ep_id.unique().shape"
   ]
  },
  {
   "cell_type": "markdown",
   "id": "db41e901",
   "metadata": {},
   "source": [
    "_His \\[Rafael Correa's\\] tenure, however, was also marked by diminishing liberties for media, opposition parties and civil society organizations._"
   ]
  },
  {
   "cell_type": "code",
   "execution_count": 25,
   "id": "62086b66",
   "metadata": {},
   "outputs": [],
   "source": [
    "# Selects ecuador only\n",
    "ecu = vdem[vdem.country_text_id=='ECU']"
   ]
  },
  {
   "cell_type": "code",
   "execution_count": 26,
   "id": "cf8f839b",
   "metadata": {},
   "outputs": [],
   "source": [
    "# Shows only the Correa terms\n",
    "ecu = ecu[(ecu.year >= 2007) & (ecu.year <= 2017)]"
   ]
  },
  {
   "cell_type": "code",
   "execution_count": 27,
   "id": "64c35434",
   "metadata": {},
   "outputs": [
    {
     "data": {
      "text/plain": [
       "<AxesSubplot:xlabel='year'>"
      ]
     },
     "execution_count": 27,
     "metadata": {},
     "output_type": "execute_result"
    },
    {
     "data": {
      "image/png": "[encoded data removed]",
      "text/plain": [
       "<Figure size 432x288 with 1 Axes>"
      ]
     },
     "metadata": {
      "needs_background": "light"
     },
     "output_type": "display_data"
    }
   ],
   "source": [
    "# Sub-index for freedom of expression and of media\n",
    "ecu.plot(y='v2x_freexp_altinf', x='year')"
   ]
  },
  {
   "cell_type": "code",
   "execution_count": 28,
   "id": "705a75e2",
   "metadata": {},
   "outputs": [
    {
     "data": {
      "text/plain": [
       "<AxesSubplot:xlabel='year'>"
      ]
     },
     "execution_count": 28,
     "metadata": {},
     "output_type": "execute_result"
    },
    {
     "data": {
      "image/png": "[encoded data removed]",
      "text/plain": [
       "<Figure size 432x288 with 1 Axes>"
      ]
     },
     "metadata": {
      "needs_background": "light"
     },
     "output_type": "display_data"
    }
   ],
   "source": [
    "# Freedom of association\n",
    "ecu.plot(y='v2x_frassoc_thick', x='year')"
   ]
  },
  {
   "cell_type": "code",
   "execution_count": 29,
   "id": "e250a35f",
   "metadata": {},
   "outputs": [
    {
     "data": {
      "text/plain": [
       "<AxesSubplot:xlabel='year'>"
      ]
     },
     "execution_count": 29,
     "metadata": {},
     "output_type": "execute_result"
    },
    {
     "data": {
      "image/png": "[encoded data removed]",
      "text/plain": [
       "<Figure size 432x288 with 1 Axes>"
      ]
     },
     "metadata": {
      "needs_background": "light"
     },
     "output_type": "display_data"
    }
   ],
   "source": [
    "# Free and fair elections\n",
    "ecu.plot(y='v2xel_frefair', x='year')"
   ]
  }
 ],
 "metadata": {
  "kernelspec": {
   "display_name": "Python 3",
   "language": "python",
   "name": "python3"
  },
  "language_info": {
   "codemirror_mode": {
    "name": "ipython",
    "version": 3
   },
   "file_extension": ".py",
   "mimetype": "text/x-python",
   "name": "python",
   "nbconvert_exporter": "python",
   "pygments_lexer": "ipython3",
   "version": "3.8.8"
  }
 },
 "nbformat": 4,
 "nbformat_minor": 5
}
